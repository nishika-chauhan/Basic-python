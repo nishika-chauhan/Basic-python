{
 "cells": [
  {
   "cell_type": "code",
   "execution_count": 2,
   "id": "41347c76",
   "metadata": {},
   "outputs": [
    {
     "name": "stdout",
     "output_type": "stream",
     "text": [
      "<class 'int'>\n"
     ]
    }
   ],
   "source": [
    "x=2\n",
    "print(type(x))"
   ]
  },
  {
   "cell_type": "code",
   "execution_count": 5,
   "id": "2b33b16d",
   "metadata": {},
   "outputs": [
    {
     "name": "stdout",
     "output_type": "stream",
     "text": [
      "<class 'complex'>\n"
     ]
    }
   ],
   "source": [
    "x=2+4j\n",
    "print(type(x))"
   ]
  },
  {
   "cell_type": "code",
   "execution_count": 6,
   "id": "2000e00d",
   "metadata": {},
   "outputs": [
    {
     "name": "stdout",
     "output_type": "stream",
     "text": [
      "Enter Principal amount: 56\n",
      "Enter Rate:34\n",
      "Enter Time in years2\n",
      "SI is  38.08\n"
     ]
    }
   ],
   "source": [
    "#write a program to find out simple interest\n",
    "p=float(input(\"Enter Principal amount: \"))\n",
    "r=float(input(\"Enter Rate:\"))\n",
    "t=float(input(\"Enter Time in years\"))\n",
    "SI = (p*r*t)/100\n",
    "print(\"SI is \", SI)"
   ]
  },
  {
   "cell_type": "code",
   "execution_count": 8,
   "id": "a8e3e9be",
   "metadata": {},
   "outputs": [
    {
     "name": "stdout",
     "output_type": "stream",
     "text": [
      "ABC   tyu\n"
     ]
    }
   ],
   "source": [
    "A=\"ABC\"\n",
    "b =\"tyu\"\n",
    "print(A,\" \",b)"
   ]
  },
  {
   "cell_type": "code",
   "execution_count": 10,
   "id": "28b3f383",
   "metadata": {},
   "outputs": [
    {
     "name": "stdout",
     "output_type": "stream",
     "text": [
      "gdv\n"
     ]
    }
   ],
   "source": [
    "a = \"abgdvh\"\n",
    "print(a[2:5])"
   ]
  },
  {
   "cell_type": "code",
   "execution_count": 11,
   "id": "04d37031",
   "metadata": {},
   "outputs": [
    {
     "name": "stdout",
     "output_type": "stream",
     "text": [
      "Hello World\n"
     ]
    }
   ],
   "source": [
    "str = \"Hello World\"\n",
    "print(str)"
   ]
  },
  {
   "cell_type": "code",
   "execution_count": 19,
   "id": "5f570545",
   "metadata": {},
   "outputs": [
    {
     "name": "stdout",
     "output_type": "stream",
     "text": [
      "Hello World\n"
     ]
    }
   ],
   "source": [
    "str=\"{} {}\".format(\"Hello\",\"World\")\n",
    "print(str)"
   ]
  },
  {
   "cell_type": "code",
   "execution_count": 23,
   "id": "20a2182e",
   "metadata": {},
   "outputs": [
    {
     "name": "stdout",
     "output_type": "stream",
     "text": [
      "for Niet Engeenering\n"
     ]
    }
   ],
   "source": [
    "str = \"{l} {m} {n}\".format(n=\"Engeenering\",l=\"for\",m=\"Niet\")\n",
    "print(str)"
   ]
  },
  {
   "cell_type": "code",
   "execution_count": 24,
   "id": "2a9d1b17",
   "metadata": {},
   "outputs": [
    {
     "name": "stdout",
     "output_type": "stream",
     "text": [
      "['abc', 7, 'ytr', 4]\n"
     ]
    }
   ],
   "source": [
    "list=[\"abc\",7,\"ytr\",4]\n",
    "print(list)\n"
   ]
  },
  {
   "cell_type": "code",
   "execution_count": 26,
   "id": "4a0debe1",
   "metadata": {},
   "outputs": [
    {
     "name": "stdout",
     "output_type": "stream",
     "text": [
      "<class 'int'>\n",
      "<class 'float'>\n",
      "<class 'float'>\n"
     ]
    }
   ],
   "source": [
    "#implicit\n",
    "a=5\n",
    "b=5.6\n",
    "c=a+b\n",
    "print(type(a))\n",
    "print(type(b))\n",
    "print(type(c))"
   ]
  },
  {
   "cell_type": "code",
   "execution_count": 1,
   "id": "6006039f",
   "metadata": {},
   "outputs": [
    {
     "name": "stdout",
     "output_type": "stream",
     "text": [
      "<class 'int'>\n"
     ]
    }
   ],
   "source": [
    "#explicit\n",
    "#<datatype>(expression)\n",
    "a= int(5.0)\n",
    "print(type(a))\n"
   ]
  },
  {
   "cell_type": "code",
   "execution_count": 2,
   "id": "37fed6b9",
   "metadata": {},
   "outputs": [
    {
     "name": "stdout",
     "output_type": "stream",
     "text": [
      "Enter English marks: 96\n",
      "Enter Maths marks: 56\n",
      "Enter Hindi marks: 98\n",
      "Enter Computer Science marks: 100\n",
      "Enter Physics marks: 89\n",
      "Total percentage:  87.8\n"
     ]
    }
   ],
   "source": [
    "#Program to find out percentage of five subjects\n",
    "eng=float(input(\"Enter English marks: \"))\n",
    "maths=float(input(\"Enter Maths marks: \"))\n",
    "hindi=float(input(\"Enter Hindi marks: \"))\n",
    "cs=float(input(\"Enter Computer Science marks: \"))\n",
    "phy=float(input(\"Enter Physics marks: \"))\n",
    "percentage = ((eng+hindi+maths+cs+phy)/500)*100\n",
    "print(\"Total percentage: \",percentage)"
   ]
  },
  {
   "cell_type": "code",
   "execution_count": 7,
   "id": "92ebedd9",
   "metadata": {},
   "outputs": [
    {
     "name": "stdout",
     "output_type": "stream",
     "text": [
      "('abcd', 'abc', 7, 'ytr', 4)\n",
      "(7,)\n",
      "('abcd', 'abc', 7, 'ytr', 4, 'abcd', 'abc', 7, 'ytr', 4, 'abcd', 'abc', 7, 'ytr', 4)\n",
      "ytr\n"
     ]
    }
   ],
   "source": [
    "#tupples\n",
    "tupple=(\"abcd\",\"abc\",7,\"ytr\",4)\n",
    "print(tupple)\n",
    "print(tupple[2:3])\n",
    "print(tupple*3)\n",
    "print(tupple[3])"
   ]
  },
  {
   "cell_type": "code",
   "execution_count": 3,
   "id": "d3823749",
   "metadata": {},
   "outputs": [
    {
     "name": "stdout",
     "output_type": "stream",
     "text": [
      "<class 'dict'>\n",
      "{1: 'value', 'key': 2, 2: 'third'}\n",
      "dict_keys([1, 'key', 2])\n",
      "dict_values(['value', 2, 'third'])\n",
      "third\n"
     ]
    }
   ],
   "source": [
    "#Dictionaries\n",
    "d={1:\"value\",\"key\":2}\n",
    "print(type(d))\n",
    "\n",
    "d[2]=\"third\"\n",
    "print(d)\n",
    "\n",
    "print(d.keys())\n",
    "\n",
    "print(d.values())\n",
    "print(d[2])\n",
    "\n"
   ]
  },
  {
   "cell_type": "code",
   "execution_count": 17,
   "id": "e71ffa1a",
   "metadata": {},
   "outputs": [
    {
     "name": "stdout",
     "output_type": "stream",
     "text": [
      "Enter the basic salary of employee: 2000000000\n",
      "Net Pay: 2950000000.0\n",
      "Gross Pay:  2710000000.0\n"
     ]
    }
   ],
   "source": [
    "\"\"\"basic salary\n",
    ",DA(25% of basic),\n",
    "HRA(15% of basic),\n",
    "PF= 12% of basic),\n",
    "TA = 7.5% of basic,\n",
    "net pay = basic+DA+HRA+TA ,\n",
    "GROSS PAY = net pay - PF\"\"\"\n",
    "\n",
    "basic_sal= float(input(\"Enter the basic salary of employee: \"))\n",
    "DA = (25/100)*basic_sal\n",
    "HRA = (15/100)*basic_sal\n",
    "PF = (12/100)*basic_sal\n",
    "TA  = (7.5/100)*basic_sal\n",
    "net_pay = basic_sal+DA+HRA+TA\n",
    "GROSS_PAY = net_pay - PF\n",
    "print(\"Net Pay:\",net_pay )\n",
    "print(\"Gross Pay: \",GROSS_PAY)\n",
    "\n"
   ]
  },
  {
   "cell_type": "code",
   "execution_count": 5,
   "id": "f31277e1",
   "metadata": {},
   "outputs": [
    {
     "name": "stdout",
     "output_type": "stream",
     "text": [
      "Enter radius of circle: 3.456\n",
      "Circumference of circle:21.72\n",
      "Area of circle:  37.54\n"
     ]
    }
   ],
   "source": [
    "#WAP to find the area of circle using formatting\n",
    "\n",
    "r = float(input(\"Enter radius of circle: \"))\n",
    "circumference = 2*(22/7)*r\n",
    "print(\"Circumference of circle:{:.2f}\".format(circumference))\n",
    "area  = (22/7)*r*r\n",
    "print(f\"Area of circle: {area: .2f}\")"
   ]
  },
  {
   "cell_type": "code",
   "execution_count": 6,
   "id": "843aac10",
   "metadata": {},
   "outputs": [
    {
     "name": "stdout",
     "output_type": "stream",
     "text": [
      "Enter first number: 4\n",
      "Enter second number: 7\n",
      "Quotient:  0\n",
      "Remainder:  4\n"
     ]
    }
   ],
   "source": [
    "#WAP to read two numbers and print the quotient and remainder\n",
    "\n",
    "a= int(input(\"Enter first number: \"))\n",
    "b= int(input(\"Enter second number: \"))\n",
    "q=a//b\n",
    "r=a%b\n",
    "print(\"Quotient: \",q)\n",
    "print(\"Remainder: \",r)"
   ]
  },
  {
   "cell_type": "code",
   "execution_count": 12,
   "id": "9206d157",
   "metadata": {},
   "outputs": [
    {
     "name": "stdout",
     "output_type": "stream",
     "text": [
      "1\n",
      "7\n",
      "6\n",
      "-6\n",
      "10\n",
      "2\n"
     ]
    }
   ],
   "source": [
    "#Bitwise operators\n",
    "a=5 & 3 #Bitwise AND\n",
    "print(a)\n",
    "\n",
    "b=5|3 #Bitwise OR\n",
    "print(b)\n",
    "\n",
    "c=5^3 #Bitwise XOR\n",
    "print(c)\n",
    "\n",
    "d = ~5 #Bitwise NOT\n",
    "print(d)\n",
    "\n",
    "e=5<<1 #Bitwise Left Shift\n",
    "print(e)\n",
    "\n",
    "f=5>>1 #Bitwise Right Shift\n",
    "print(f)\n",
    "\n",
    "\n"
   ]
  },
  {
   "cell_type": "code",
   "execution_count": 1,
   "id": "95d51317",
   "metadata": {},
   "outputs": [
    {
     "name": "stdout",
     "output_type": "stream",
     "text": [
      "Enter the base radius5.6\n",
      "Enter the height of the cone6.7\n",
      "Surface Area:  153.6853929298422\n",
      "Volume:  220.11733333333328\n"
     ]
    }
   ],
   "source": [
    "#WAP to find volume & surface area for cone\n",
    "import math\n",
    "r = float(input(\"Enter the base radius\"))\n",
    "h = float(input(\"Enter the height of the cone\"))\n",
    "l = math.sqrt((r**2)+(h**2))\n",
    "SA = (22/7)*r*l\n",
    "print(\"Surface Area: \",SA)\n",
    "v = (1/3)*(22/7)*(r**2)*h\n",
    "print(\"Volume: \",v)"
   ]
  },
  {
   "cell_type": "code",
   "execution_count": 4,
   "id": "55899d98",
   "metadata": {},
   "outputs": [
    {
     "name": "stdout",
     "output_type": "stream",
     "text": [
      "Enter first number3\n",
      "Enter second number8\n",
      "Before swapping\n",
      "a:  3\n",
      "b:  8\n",
      "After swapping\n",
      "a:  8\n",
      "b:  3\n"
     ]
    }
   ],
   "source": [
    "#WAP to swap values of two variables without using third variable\n",
    "\n",
    "a = int(input(\"Enter first number\"))\n",
    "b = int(input(\"Enter second number\"))\n",
    "print(\"Before swapping\")\n",
    "print(\"a: \",a)\n",
    "print(\"b: \",b)\n",
    "a=a+b\n",
    "b=a-b\n",
    "a=a-b\n",
    "print(\"After swapping\")\n",
    "print(\"a: \",a)\n",
    "print(\"b: \",b)\n"
   ]
  },
  {
   "cell_type": "code",
   "execution_count": 5,
   "id": "1d622e64",
   "metadata": {},
   "outputs": [
    {
     "name": "stdout",
     "output_type": "stream",
     "text": [
      "Enter base:4\n",
      "Enter length:5\n",
      "Perimeter of rectangle:  18.0\n",
      "Enter the radius6\n",
      "Perimeter of circle:  37.714285714285715\n",
      "Enter first side7\n",
      "Enter second side8\n",
      "Enter third side9\n",
      "Perimeter of Triangle:  24.0\n"
     ]
    }
   ],
   "source": [
    "#WAP to find out perimeter of circle, rectangle and triangle\n",
    "\n",
    "#rectangle\n",
    "b=float(input(\"Enter base:\"))\n",
    "h=float(input(\"Enter length:\"))\n",
    "p = 2*(h+b)\n",
    "print(\"Perimeter of rectangle: \",p)\n",
    "\n",
    "#circle\n",
    "r = float(input(\"Enter the radius\"))\n",
    "p = 2*(22/7)*r\n",
    "print(\"Perimeter of circle: \",p)\n",
    "\n",
    "#triangle\n",
    "\n",
    "a = float(input(\"Enter first side\"))\n",
    "b = float(input(\"Enter second side\"))\n",
    "c = float(input(\"Enter third side\"))\n",
    "p = a+b+c\n",
    "print(\"Perimeter of Triangle: \",p)\n"
   ]
  },
  {
   "cell_type": "code",
   "execution_count": 2,
   "id": "52415f55",
   "metadata": {},
   "outputs": [
    {
     "name": "stdout",
     "output_type": "stream",
     "text": [
      "k\n"
     ]
    }
   ],
   "source": [
    "#Take a string and print the second last element\n",
    "x=\"Nishika\"\n",
    "print(x[-2])\n"
   ]
  },
  {
   "cell_type": "code",
   "execution_count": 6,
   "id": "0ecd78e7",
   "metadata": {},
   "outputs": [
    {
     "name": "stdout",
     "output_type": "stream",
     "text": [
      "[5, 89, '555']\n"
     ]
    }
   ],
   "source": [
    "#Make a list and print elements from 3rd to 5th position\n",
    "list=[2,\"yut\",5,89,\"555\"]\n",
    "print(list[2:5])\n"
   ]
  },
  {
   "cell_type": "code",
   "execution_count": 7,
   "id": "58201c8b",
   "metadata": {},
   "outputs": [
    {
     "name": "stdout",
     "output_type": "stream",
     "text": [
      "103\n"
     ]
    }
   ],
   "source": [
    "#Right shift 11001110\n",
    "\n",
    "a = int('11001110',2)\n",
    "print(a>>1)"
   ]
  },
  {
   "cell_type": "code",
   "execution_count": 11,
   "id": "c2a4694d",
   "metadata": {},
   "outputs": [
    {
     "name": "stdout",
     "output_type": "stream",
     "text": [
      "51\n"
     ]
    }
   ],
   "source": [
    "#x=110011,y=010011....apply bitwise OR\n",
    "\n",
    "a = int('110011',2)\n",
    "b = int('10011',2)\n",
    "print(a|b)"
   ]
  },
  {
   "cell_type": "code",
   "execution_count": 12,
   "id": "dc375c5c",
   "metadata": {},
   "outputs": [
    {
     "name": "stdout",
     "output_type": "stream",
     "text": [
      "True\n",
      "True\n"
     ]
    }
   ],
   "source": [
    "#Membership operators-in,not in\n",
    "txt=\"Hello World\"\n",
    "print(\"Hello\" in txt)\n",
    "print(\"python\" not in txt)"
   ]
  },
  {
   "cell_type": "code",
   "execution_count": 14,
   "id": "45cec498",
   "metadata": {},
   "outputs": [
    {
     "name": "stdout",
     "output_type": "stream",
     "text": [
      "True\n",
      "False\n",
      "True\n"
     ]
    }
   ],
   "source": [
    "#Special operators-is,is not\n",
    "x=[1,2,3]\n",
    "y=[1,2,3]\n",
    "z=x\n",
    "print(x is z)\n",
    "print(y is x) #memory location is different\n",
    "print(x is not y)"
   ]
  },
  {
   "cell_type": "code",
   "execution_count": 15,
   "id": "c1e5199e",
   "metadata": {},
   "outputs": [
    {
     "name": "stdout",
     "output_type": "stream",
     "text": [
      "31\n"
     ]
    }
   ],
   "source": [
    "#WAP to perform bitwise OR operation on a = 15 and b= 17\n",
    "\n",
    "a = 15\n",
    "b= 17\n",
    "print(a|b)"
   ]
  }
 ],
 "metadata": {
  "kernelspec": {
   "display_name": "Python 3 (ipykernel)",
   "language": "python",
   "name": "python3"
  },
  "language_info": {
   "codemirror_mode": {
    "name": "ipython",
    "version": 3
   },
   "file_extension": ".py",
   "mimetype": "text/x-python",
   "name": "python",
   "nbconvert_exporter": "python",
   "pygments_lexer": "ipython3",
   "version": "3.9.12"
  }
 },
 "nbformat": 4,
 "nbformat_minor": 5
}
