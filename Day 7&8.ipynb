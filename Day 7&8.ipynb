{
 "cells": [
  {
   "cell_type": "code",
   "execution_count": 8,
   "id": "ab0e2978-c561-45f6-8784-84a140cae21f",
   "metadata": {},
   "outputs": [
    {
     "name": "stdout",
     "output_type": "stream",
     "text": [
      "The first name is nishika and last name is chauhan\n"
     ]
    }
   ],
   "source": [
    "#Variable keyword argument\n",
    "def func(**name):\n",
    "    print(f\"The first name is {name['fname']} and last name is {name['lname']}\")\n",
    "func(fname=\"nishika\",lname=\"chauhan\")"
   ]
  },
  {
   "cell_type": "code",
   "execution_count": 14,
   "id": "78308fbe-526c-4fdd-a1a1-c8b854bc2a10",
   "metadata": {},
   "outputs": [
    {
     "name": "stdout",
     "output_type": "stream",
     "text": [
      "inside the function defination 12\n",
      "outside the function defination 12\n"
     ]
    }
   ],
   "source": [
    "x=10\n",
    "def myfunc():\n",
    "    global x\n",
    "    x=12\n",
    "    print(\"inside the function defination\",x)\n",
    "myfunc()\n",
    "print(\"outside the function defination\",x)"
   ]
  },
  {
   "cell_type": "code",
   "execution_count": 12,
   "id": "7a69de98-8ff6-4805-a9f3-58b8a4975f94",
   "metadata": {},
   "outputs": [
    {
     "name": "stdout",
     "output_type": "stream",
     "text": [
      "12\n",
      "7\n",
      "10\n"
     ]
    }
   ],
   "source": [
    "x=10\n",
    "def outer():\n",
    "    \n",
    "    x=12\n",
    "    def inner():\n",
    "        x=7\n",
    "        print(x)\n",
    "    print(x)\n",
    "\n",
    "    inner()\n",
    "outer()\n",
    "print(x)\n"
   ]
  },
  {
   "cell_type": "code",
   "execution_count": 14,
   "id": "ecd49c96-49ed-4a3a-8d19-24a4ae3156b2",
   "metadata": {},
   "outputs": [
    {
     "name": "stdin",
     "output_type": "stream",
     "text": [
      "enter a number 10\n"
     ]
    },
    {
     "name": "stdout",
     "output_type": "stream",
     "text": [
      "factorial is 3628800\n"
     ]
    }
   ],
   "source": [
    "#Recursion-a function calling itself\n",
    "#calculate factorial of a number\n",
    "def fact(n):\n",
    "    if n==1:\n",
    "        return 1\n",
    "    else:\n",
    "        return n*fact(n-1)\n",
    "n = int(input('enter a number'))\n",
    "print('factorial is',fact(n))\n",
    "\n"
   ]
  },
  {
   "cell_type": "code",
   "execution_count": 16,
   "id": "cecc1ee7-18e0-43d8-876f-9adfc6a4fcbe",
   "metadata": {},
   "outputs": [
    {
     "name": "stdout",
     "output_type": "stream",
     "text": [
      "24\n"
     ]
    }
   ],
   "source": [
    "#lambda function\n",
    "result = lambda num1,num2,num3:num2+num1+num3\n",
    "print(result(7,8,9))"
   ]
  },
  {
   "cell_type": "code",
   "execution_count": 20,
   "id": "558166e5-d62f-4738-a0f2-d1ecf9cdbc78",
   "metadata": {
    "jupyter": {
     "source_hidden": true
    }
   },
   "outputs": [
    {
     "name": "stdout",
     "output_type": "stream",
     "text": [
      "original list: [10, 11, 12, 13, 14]\n",
      "new list: [100, 121, 144, 169, 196]\n"
     ]
    }
   ],
   "source": [
    "#Map function\n",
    "'''WAP to square each elements of the list using map() function, function and iteration'''\n",
    "\n",
    "def mysquare(x):\n",
    "    return x**2\n",
    "mylist = [10,11,12,13,14]\n",
    "print('original list:',mylist)\n",
    "mob = map(mysquare,mylist)\n",
    "mylist = list(mob)\n",
    "\n",
    "print('new list:',mylist)"
   ]
  },
  {
   "cell_type": "code",
   "execution_count": 24,
   "id": "d2a0bb20-09e8-407a-b6d9-54d35319906d",
   "metadata": {},
   "outputs": [
    {
     "name": "stdout",
     "output_type": "stream",
     "text": [
      "original list [5, 7, 6, 4]\n",
      "new list [25, 49, 36, 16]\n"
     ]
    }
   ],
   "source": [
    "#Map with lambda\n",
    "l=[5,7,6,4]\n",
    "print('original list',l)\n",
    "l=list(map(lambda x:x**2,l))\n",
    "print('new list',l)"
   ]
  },
  {
   "cell_type": "code",
   "execution_count": 44,
   "id": "f3ce4723-f6cd-4440-a621-bd25c65ea8f0",
   "metadata": {
    "scrolled": true
   },
   "outputs": [
    {
     "name": "stdout",
     "output_type": "stream",
     "text": [
      "C:\\Users\\DELL\n"
     ]
    }
   ],
   "source": [
    "#\n",
    "import os\n",
    "print(os.getcwd())  #To get current working directory"
   ]
  },
  {
   "cell_type": "code",
   "execution_count": 1,
   "id": "0503b582-d939-4ed7-954a-b4d1df9c306e",
   "metadata": {},
   "outputs": [
    {
     "ename": "FileExistsError",
     "evalue": "[WinError 183] Cannot create a file when that file already exists: 'sub'",
     "output_type": "error",
     "traceback": [
      "\u001b[1;31m---------------------------------------------------------------------------\u001b[0m",
      "\u001b[1;31mFileExistsError\u001b[0m                           Traceback (most recent call last)",
      "Cell \u001b[1;32mIn[1], line 3\u001b[0m\n\u001b[0;32m      1\u001b[0m \u001b[38;5;66;03m#\u001b[39;00m\n\u001b[0;32m      2\u001b[0m \u001b[38;5;28;01mimport\u001b[39;00m \u001b[38;5;21;01mos\u001b[39;00m\n\u001b[1;32m----> 3\u001b[0m os\u001b[38;5;241m.\u001b[39mmkdir(\u001b[38;5;124m'\u001b[39m\u001b[38;5;124msub\u001b[39m\u001b[38;5;124m'\u001b[39m)\n",
      "\u001b[1;31mFileExistsError\u001b[0m: [WinError 183] Cannot create a file when that file already exists: 'sub'"
     ]
    }
   ],
   "source": [
    "#\n",
    "import os\n",
    "os.mkdir('sub')    #To make a directory or a folder"
   ]
  },
  {
   "cell_type": "code",
   "execution_count": 7,
   "id": "8bd4d0e9-82a8-451b-9225-bf0d7e958f71",
   "metadata": {
    "scrolled": true
   },
   "outputs": [
    {
     "name": "stdout",
     "output_type": "stream",
     "text": [
      "5\n",
      "2\n"
     ]
    }
   ],
   "source": [
    "import car\n",
    "print(car.add(2,3))\n",
    "print(car.sub(5,3))"
   ]
  },
  {
   "cell_type": "code",
   "execution_count": 1,
   "id": "920f690e-ff73-4d2a-a893-bb92795fa5c6",
   "metadata": {},
   "outputs": [
    {
     "name": "stdout",
     "output_type": "stream",
     "text": [
      "27\n"
     ]
    }
   ],
   "source": [
    "from sub.car import add\n",
    "print(add(4,23))"
   ]
  },
  {
   "cell_type": "code",
   "execution_count": 4,
   "id": "7c323082-e5b2-4a19-bce4-2a266ebe220f",
   "metadata": {},
   "outputs": [],
   "source": [
    "import os\n",
    "os.mkdir('mod2')\n"
   ]
  },
  {
   "cell_type": "code",
   "execution_count": 6,
   "id": "a3fceb7c-377b-45df-9b12-1be6912491f0",
   "metadata": {},
   "outputs": [
    {
     "name": "stdin",
     "output_type": "stream",
     "text": [
      " 4\n"
     ]
    },
    {
     "name": "stdout",
     "output_type": "stream",
     "text": [
      "even\n"
     ]
    }
   ],
   "source": [
    "from mod2 import oddeve\n",
    "n=int(input())\n",
    "oddeve(n)"
   ]
  },
  {
   "cell_type": "code",
   "execution_count": 8,
   "id": "417766ba-3dcc-475a-b0c6-c24ea3ade59e",
   "metadata": {},
   "outputs": [
    {
     "name": "stdout",
     "output_type": "stream",
     "text": [
      "(1, 4, 6, 45, 89)\n"
     ]
    }
   ],
   "source": [
    "wierd = 1,4,6,45,89\n",
    "print(wierd)"
   ]
  },
  {
   "cell_type": "code",
   "execution_count": 21,
   "id": "71c7e70e-d0dd-4371-bbc7-dbd8846dd307",
   "metadata": {},
   "outputs": [
    {
     "name": "stdout",
     "output_type": "stream",
     "text": [
      "[34, 56, 76, 67, 45]\n",
      "45\n",
      "666\n",
      "[34, 56, 67, 76]\n",
      "[76, 67, 56, 34]\n"
     ]
    }
   ],
   "source": [
    "#list\n",
    "l=[34,56,76,67]\n",
    "l.append(45)\n",
    "print(l)\n",
    "l.insert(2,666)\n",
    "print(l.pop())\n",
    "print(l.pop(2))\n",
    "l.sort()\n",
    "print(l)\n",
    "l.reverse()\n",
    "print(l)"
   ]
  },
  {
   "cell_type": "code",
   "execution_count": 29,
   "id": "f61449ef-6a3b-44c0-8064-5609c6765f8b",
   "metadata": {},
   "outputs": [
    {
     "name": "stdout",
     "output_type": "stream",
     "text": [
      "[43, 98, 87, 56, 7]\n"
     ]
    }
   ],
   "source": [
    "l=[7,56,87,98,43]\n",
    "rl=[]\n",
    "for i in range(len(l),0,-1):\n",
    "    rl.append(l[i-1])\n",
    "l=rl\n",
    "print(l)\n",
    "    "
   ]
  },
  {
   "cell_type": "code",
   "execution_count": 35,
   "id": "5d4a80f0-bd07-4bce-bf45-4f5a84ece64e",
   "metadata": {},
   "outputs": [
    {
     "name": "stdout",
     "output_type": "stream",
     "text": [
      "red apple\n",
      "red banana\n",
      "red mango\n",
      "yellow apple\n",
      "yellow banana\n",
      "yellow mango\n",
      "white apple\n",
      "white banana\n",
      "white mango\n"
     ]
    }
   ],
   "source": [
    "l=['red','yellow','white']\n",
    "f = ['apple','banana','mango']\n",
    "for i in l:\n",
    "    for j in f:\n",
    "        print(i,j)"
   ]
  },
  {
   "cell_type": "code",
   "execution_count": 37,
   "id": "44ce0113-80e9-4bc6-b16a-0c31565f0a73",
   "metadata": {},
   "outputs": [
    {
     "name": "stdout",
     "output_type": "stream",
     "text": [
      "1\n",
      "3\n",
      "4\n",
      "5\n",
      "7\n"
     ]
    }
   ],
   "source": [
    "t = (1,3,4,5,7)\n",
    "for i in range (0,len(t)):\n",
    "    print(t[i])"
   ]
  },
  {
   "cell_type": "code",
   "execution_count": 45,
   "id": "3019f81d-8512-4322-a77d-605424447e5e",
   "metadata": {},
   "outputs": [
    {
     "name": "stdin",
     "output_type": "stream",
     "text": [
      "Enter the element you want to search:  7\n"
     ]
    },
    {
     "name": "stdout",
     "output_type": "stream",
     "text": [
      "present\n"
     ]
    }
   ],
   "source": [
    "#To determine if a specified item is present in tupple using in keyword\n",
    "x = int(input('Enter the element you want to search: '))\n",
    "for i in t:\n",
    "    if i==x:\n",
    "        print('present')\n",
    "    "
   ]
  },
  {
   "cell_type": "code",
   "execution_count": 51,
   "id": "0ce873f7-a501-470b-8306-275296d208fa",
   "metadata": {},
   "outputs": [
    {
     "name": "stdout",
     "output_type": "stream",
     "text": [
      "\n",
      "0\n",
      "12\n",
      "345\n",
      "6789\n"
     ]
    }
   ],
   "source": [
    "x=0\n",
    "for i in range(5):\n",
    "    for j in range(1,i+1):\n",
    "        print(x,end='')\n",
    "        x=x+1\n",
    "    print()"
   ]
  },
  {
   "cell_type": "code",
   "execution_count": 63,
   "id": "c6ec04b1-ca44-4802-a28b-18f07cb98a16",
   "metadata": {},
   "outputs": [
    {
     "name": "stdin",
     "output_type": "stream",
     "text": [
      "Enter the number of rows 5\n"
     ]
    },
    {
     "name": "stdout",
     "output_type": "stream",
     "text": [
      "           *\n",
      "          ***\n",
      "         *****\n",
      "        *******\n",
      "       *********\n",
      "\n"
     ]
    }
   ],
   "source": [
    "\"\"\"\n",
    "    *\n",
    "   **\n",
    "  ***\n",
    " ****\n",
    "\"\"\"\n",
    "n = int(input('Enter the number of rows'))\n",
    "\n",
    "for j in range(n):\n",
    "    print(\" \"*(n-j+i),'*'*(j+1),end='')\n",
    "    print(\"*\"*(j))\n",
    "print()"
   ]
  },
  {
   "cell_type": "code",
   "execution_count": 66,
   "id": "8a566fd2-4c4b-4895-9250-7d3375440d41",
   "metadata": {},
   "outputs": [
    {
     "name": "stdout",
     "output_type": "stream",
     "text": [
      "hello\n",
      "{2: 'world', 3: 'three'}\n",
      "(3, 'three')\n",
      "\n",
      "{2: 'world', '4': 'four'}\n",
      "world\n"
     ]
    }
   ],
   "source": [
    "#Built-in funtions - dictionary\n",
    "d={1:'hello', 2:'world',3:'three'}\n",
    "#pop()\n",
    "#popitem()\n",
    "print(d.pop(1))   #Index required\n",
    "print(d)\n",
    "print(d.popitem()) #pops the first element\n",
    "print()\n",
    "\n",
    "#update\n",
    "d.update({'4':'four'})\n",
    "print(d)\n",
    "\n",
    "#get\n",
    "print(d.get(2)) #Takes keys as argument and returns the value"
   ]
  },
  {
   "cell_type": "code",
   "execution_count": null,
   "id": "a06b9ef0-a129-4319-a176-5224140ac8f5",
   "metadata": {},
   "outputs": [],
   "source": []
  }
 ],
 "metadata": {
  "kernelspec": {
   "display_name": "Python [conda env:base] *",
   "language": "python",
   "name": "conda-base-py"
  },
  "language_info": {
   "codemirror_mode": {
    "name": "ipython",
    "version": 3
   },
   "file_extension": ".py",
   "mimetype": "text/x-python",
   "name": "python",
   "nbconvert_exporter": "python",
   "pygments_lexer": "ipython3",
   "version": "3.12.7"
  }
 },
 "nbformat": 4,
 "nbformat_minor": 5
}
