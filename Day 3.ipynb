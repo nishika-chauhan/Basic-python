{
 "cells": [
  {
   "cell_type": "code",
   "execution_count": 3,
   "id": "6cdcbf19",
   "metadata": {
    "scrolled": true
   },
   "outputs": [
    {
     "name": "stdout",
     "output_type": "stream",
     "text": [
      " HELLO TO WORLD \n",
      " hello to world \n",
      "Hello to World\n",
      "['Hello', 'to', 'World']\n",
      "['', 'Hello', 'to', 'World', '']\n",
      "[' Hello ', ' World ']\n",
      "Hello-to-World\n",
      "After replacement:   Hello from World \n",
      "7\n",
      "3\n"
     ]
    }
   ],
   "source": [
    "#Common string methods\n",
    "\n",
    "a = \" Hello to World \"\n",
    "print(a.upper())\n",
    "\n",
    "print(a.lower())\n",
    "\n",
    "print(a.strip())\n",
    "\n",
    "x=a.split()\n",
    "print(x)\n",
    "print(a.split(\" \"))\n",
    "print(a.split(\"to\"))\n",
    "\n",
    "print(\"-\".join(x))\n",
    "\n",
    "print(\"After replacement: \",a.replace(\"to\",\"from\"))\n",
    "\n",
    "print(a.find(\"to\"))\n",
    "\n",
    "print(a.count(\"o\"))"
   ]
  },
  {
   "cell_type": "code",
   "execution_count": 29,
   "id": "257d4ee1",
   "metadata": {},
   "outputs": [
    {
     "name": "stdout",
     "output_type": "stream",
     "text": [
      "Enter a number:4\n",
      "Enter second number8\n",
      "8  is greater than  4\n"
     ]
    }
   ],
   "source": [
    "a=int(input(\"Enter a number:\"))\n",
    "b=int(input(\"Enter second number\"))\n",
    "if a>b:\n",
    "    print(a,\" is greater than \",b)\n",
    "else:\n",
    "    print(b,\" is greater than \",a)"
   ]
  },
  {
   "cell_type": "code",
   "execution_count": 33,
   "id": "1a3f4e58",
   "metadata": {},
   "outputs": [
    {
     "name": "stdout",
     "output_type": "stream",
     "text": [
      "Enter age:19\n",
      "party party yeah!!\n"
     ]
    }
   ],
   "source": [
    "age = int(input(\"Enter age:\"))\n",
    "if age>18:\n",
    "    print(\"party party yeah!!\")\n",
    "else:\n",
    "    print(\"Sad life:(\")"
   ]
  },
  {
   "cell_type": "code",
   "execution_count": 36,
   "id": "8eb4a7a9",
   "metadata": {},
   "outputs": [
    {
     "name": "stdout",
     "output_type": "stream",
     "text": [
      "Enter a number6\n",
      "Even number\n"
     ]
    }
   ],
   "source": [
    "a=int(input(\"Enter a number\"))\n",
    "if a%2==0:\n",
    "    print(\"Even number\")\n",
    "else:\n",
    "    print(\"Odd number\")"
   ]
  },
  {
   "cell_type": "code",
   "execution_count": 46,
   "id": "9948a358",
   "metadata": {},
   "outputs": [
    {
     "name": "stdout",
     "output_type": "stream",
     "text": [
      "Enter first number5\n",
      "Enter second number7\n",
      "Enter the third number6\n",
      "7  is the greatest number\n"
     ]
    }
   ],
   "source": [
    "#Greatest of 3 number\n",
    "a= int(input(\"Enter first number\"))\n",
    "b= int(input(\"Enter second number\"))\n",
    "c= int(input(\"Enter the third number\"))\n",
    "\n",
    "if a>b:\n",
    "    if a>c:\n",
    "        print(a,\" is the greatest number\")\n",
    "    else:\n",
    "        print(c,\" is the greatest number\")\n",
    "elif c>b:\n",
    "    print(c,\" is the greatest number\")\n",
    "else:\n",
    "    print(b,\" is the greatest number\")"
   ]
  },
  {
   "cell_type": "code",
   "execution_count": 4,
   "id": "598650ea",
   "metadata": {},
   "outputs": [
    {
     "name": "stdout",
     "output_type": "stream",
     "text": [
      "Enter first number4\n",
      "Enter second number6\n",
      "Enter the third number8\n",
      "8  is the greatest number\n"
     ]
    }
   ],
   "source": [
    "#greatest of 3 numbers\n",
    "a= int(input(\"Enter first number\"))\n",
    "b= int(input(\"Enter second number\"))\n",
    "c= int(input(\"Enter the third number\"))\n",
    "if a>b and a>c:\n",
    "    print(a,\"is the greatest\")\n",
    "elif b>a and b>c:\n",
    "    print(b,\" is the greatest number\")\n",
    "elif c>a and c>b:\n",
    "    print(c,\" is the greatest number\")"
   ]
  },
  {
   "cell_type": "code",
   "execution_count": 49,
   "id": "f6ca15dd",
   "metadata": {},
   "outputs": [
    {
     "name": "stdout",
     "output_type": "stream",
     "text": [
      "5\n"
     ]
    }
   ],
   "source": [
    "a=1\n",
    "a+=4\n",
    "print(a)"
   ]
  },
  {
   "cell_type": "code",
   "execution_count": 1,
   "id": "f423f2ba",
   "metadata": {},
   "outputs": [
    {
     "name": "stdout",
     "output_type": "stream",
     "text": [
      "Enter the string: BADO BADI BADO BADI\n",
      "8\n"
     ]
    }
   ],
   "source": [
    "#WAP to print the number of vowels in a string\n",
    "v = \"aeiouAEIOU\"\n",
    "a= input(\"Enter the string: \")\n",
    "count = 0\n",
    "for i in a:\n",
    "    for j in v:\n",
    "        if i==j:\n",
    "            count+=1\n",
    "print(count)"
   ]
  },
  {
   "cell_type": "code",
   "execution_count": null,
   "id": "54ffce87",
   "metadata": {},
   "outputs": [],
   "source": []
  }
 ],
 "metadata": {
  "kernelspec": {
   "display_name": "Python 3 (ipykernel)",
   "language": "python",
   "name": "python3"
  },
  "language_info": {
   "codemirror_mode": {
    "name": "ipython",
    "version": 3
   },
   "file_extension": ".py",
   "mimetype": "text/x-python",
   "name": "python",
   "nbconvert_exporter": "python",
   "pygments_lexer": "ipython3",
   "version": "3.9.12"
  }
 },
 "nbformat": 4,
 "nbformat_minor": 5
}
