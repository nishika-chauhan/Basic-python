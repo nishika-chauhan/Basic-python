{
 "cells": [
  {
   "cell_type": "code",
   "execution_count": 2,
   "id": "8df6f786",
   "metadata": {},
   "outputs": [
    {
     "name": "stdout",
     "output_type": "stream",
     "text": [
      "enter first number: 4\n",
      "positive number\n"
     ]
    }
   ],
   "source": [
    "#WAP to find if number is zero, positive or negative\n",
    "\n",
    "a = int(input(\"enter first number: \"))\n",
    "if a>0:\n",
    "    print(\"positive number\")\n",
    "elif a<0:\n",
    "    print(\"negative number\")\n",
    "else:\n",
    "    print(\"Zero\")"
   ]
  },
  {
   "cell_type": "code",
   "execution_count": 5,
   "id": "bc8a4daf",
   "metadata": {},
   "outputs": [
    {
     "name": "stdout",
     "output_type": "stream",
     "text": [
      "Enter number of element you want to enter: 5\n",
      "Enter the number:8\n",
      "Enter the number:9\n",
      "Enter the number:6\n",
      "Enter the number:5\n",
      "Enter the number:3\n",
      "[8, 9, 6, 5, 3]\n"
     ]
    }
   ],
   "source": [
    "#WAP to append elements in empty list\n",
    "l=[]\n",
    "a = int(input(\"Enter number of element you want to enter: \"))\n",
    "for i in range(0,a):\n",
    "    x = int(input(\"Enter the number:\"))\n",
    "    l.append(x)\n",
    "print(l)"
   ]
  },
  {
   "cell_type": "code",
   "execution_count": 6,
   "id": "b7e2bc72",
   "metadata": {},
   "outputs": [
    {
     "name": "stdout",
     "output_type": "stream",
     "text": [
      "Enter the number: 6\n",
      "6 is not less than 5\n"
     ]
    }
   ],
   "source": [
    "#WAP to find whether x is not less than 5\n",
    "x = int(input(\"Enter the number: \"))\n",
    "if not(x<5):\n",
    "    print(x,\"is not less than 5\")\n",
    "else:\n",
    "    print(x,\"is less than 5\")"
   ]
  },
  {
   "cell_type": "code",
   "execution_count": 8,
   "id": "e528dad0",
   "metadata": {},
   "outputs": [
    {
     "name": "stdout",
     "output_type": "stream",
     "text": [
      "Enter the number of units consumed: 200\n",
      "your bill is 150.0\n"
     ]
    }
   ],
   "source": [
    "#WAP to calculate the electricity bill based on the following rules\n",
    "\"\"\"1. if you consume 100 units - $0.5 per unit\n",
    "2. next 100 units - 0.75 per unit\n",
    "3. above 200 units - $1 per unit\"\"\"\n",
    "\n",
    "u = int (input(\"Enter the number of units consumed: \"))\n",
    "if (u<=200):\n",
    "    if (u<=100):\n",
    "        bill = 0.5*u\n",
    "        print(\"your bill is\",bill)\n",
    "    else:\n",
    "        bill=(0.5*u)+(0.75*u-100)\n",
    "        print(\"your bill is\",bill)\n",
    "else:\n",
    "    bill=(0.5*u)+(0.75*u-100)+(1*u-200)\n",
    "    print(\"your bill is\",bill)\n",
    "    "
   ]
  },
  {
   "cell_type": "code",
   "execution_count": 9,
   "id": "9991d263",
   "metadata": {},
   "outputs": [
    {
     "name": "stdout",
     "output_type": "stream",
     "text": [
      "Enter the percentage: 35\n",
      "Grade E\n"
     ]
    }
   ],
   "source": [
    "#WAP to grade on the basis of percentage\n",
    "p = int(input(\"Enter the percentage: \"))\n",
    "if p>=90:\n",
    "    print(\"Grade A\")\n",
    "elif p<90 and p>=80:\n",
    "    print(\"Grade B\")\n",
    "elif p<80 and p>=70:\n",
    "    print(\"Grade C\")\n",
    "elif p<70 and p>=60:\n",
    "    print(\"Grade D\")\n",
    "else:\n",
    "    print(\"Grade E\")"
   ]
  },
  {
   "cell_type": "code",
   "execution_count": 1,
   "id": "42219457",
   "metadata": {},
   "outputs": [
    {
     "name": "stdout",
     "output_type": "stream",
     "text": [
      "Enter a character: W\n",
      "\n",
      "w\n"
     ]
    }
   ],
   "source": [
    "#program to convert a uppercase character to lowercase and vice-versa \n",
    "\n",
    "a = input(\"Enter a character: \")\n",
    "if(len(a)==1):\n",
    "    print(\"\")\n",
    "    if (a.isupper()):\n",
    "        print(a.lower())\n",
    "    elif(a.islower()):\n",
    "        print(a.upper())\n",
    "    else:\n",
    "        print(\"Invalid Input\")\n",
    "else:\n",
    "    print(\"Invalid Input\")\n",
    "    "
   ]
  },
  {
   "cell_type": "code",
   "execution_count": 2,
   "id": "a1ea5e24",
   "metadata": {},
   "outputs": [
    {
     "name": "stdout",
     "output_type": "stream",
     "text": [
      "Enter the first letter of colour: r\n",
      "Red\n"
     ]
    }
   ],
   "source": [
    "#wap to autofill on basis of first letter of colour \n",
    "\n",
    "a = input(\"Enter the first letter of colour: \")\n",
    "if a in \"rR\":\n",
    "    print(\"Red\")\n",
    "elif a in \"bB\":\n",
    "    print(\"Blue\")\n",
    "elif a in \"pP\":\n",
    "    print(\"Pink\")\n",
    "\n"
   ]
  },
  {
   "cell_type": "code",
   "execution_count": 4,
   "id": "64fd5a45",
   "metadata": {},
   "outputs": [
    {
     "name": "stdout",
     "output_type": "stream",
     "text": [
      "Select the function you want to perform: \n",
      "1. Addition\n",
      "2. subtraction \n",
      "3. multiplication\n",
      "4. division\n",
      "Enter your choice: 3\n",
      "Enter first number: 7\n",
      "Enter second number: 6\n",
      "Product:  42\n"
     ]
    }
   ],
   "source": [
    "#WAP for calculator on the basis of choice\n",
    "\"\"\"1. Addition\n",
    "2. subtraction \n",
    "3. multiplication\n",
    "4. division\"\"\"\n",
    "\n",
    "print(\"Select the function you want to perform: \")\n",
    "print(\"1. Addition\")\n",
    "print(\"2. subtraction \")\n",
    "print(\"3. multiplication\")\n",
    "print(\"4. division\")\n",
    "\n",
    "c = int(input(\"Enter your choice: \"))\n",
    "if c==1:\n",
    "    a = int(input(\"Enter first number: \"))\n",
    "    b = int(input(\"Enter second number: \"))\n",
    "    print(\"Sum: \",a+b)\n",
    "elif c==2:\n",
    "    a = int(input(\"Enter first number: \"))\n",
    "    b = int(input(\"Enter second number: \"))\n",
    "    print(\"Difference: \",a-b)\n",
    "elif c==3:\n",
    "    a = int(input(\"Enter first number: \"))\n",
    "    b = int(input(\"Enter second number: \"))\n",
    "    print(\"Product: \",a*b)\n",
    "elif c==4:\n",
    "    a = int(input(\"Enter first number: \"))\n",
    "    b = int(input(\"Enter second number: \"))\n",
    "    print(\"Quotient: \",a/b)\n",
    "else:\n",
    "    print(\"Invalid Input\")\n",
    "    "
   ]
  },
  {
   "cell_type": "code",
   "execution_count": 6,
   "id": "d86369df",
   "metadata": {},
   "outputs": [
    {
     "name": "stdout",
     "output_type": "stream",
     "text": [
      "Select your choice:\n",
      "1. Calculate area of rectangle\n",
      "2. Calculate area of square\n",
      "3. Calculate area of circle\n",
      "4. Exit\n",
      "Enter your choice: 4\n",
      "Exitting\n"
     ]
    }
   ],
   "source": [
    "#WAP area of rectangle, square, circle on the basis of choice.\n",
    "print(\"Select your choice:\")\n",
    "print(\"1. Calculate area of rectangle\")\n",
    "print(\"2. Calculate area of square\")\n",
    "print(\"3. Calculate area of circle\")\n",
    "print(\"4. Exit\")\n",
    "\n",
    "c = int(input(\"Enter your choice: \"))\n",
    "if c==1:\n",
    "    a = eval(input(\"Enter length: \"))\n",
    "    b = eval(input(\"Enter breadth: \"))\n",
    "    print(\"Area:\",a*b)\n",
    "elif c==2:\n",
    "    a = eval(input(\"Enter side: \"))\n",
    " \n",
    "    print(\"Area:\",a*a)\n",
    "\n",
    "elif c==3:\n",
    "    a = eval(input(\"Enter radius: \"))\n",
    "    \n",
    "    print(\"Area:\",3.14*a*a)\n",
    "elif c==4:\n",
    "    print(\"Exitting\")\n",
    "else:\n",
    "    print(\"Invalid Choice\")\n",
    "\n"
   ]
  }
 ],
 "metadata": {
  "kernelspec": {
   "display_name": "Python 3 (ipykernel)",
   "language": "python",
   "name": "python3"
  },
  "language_info": {
   "codemirror_mode": {
    "name": "ipython",
    "version": 3
   },
   "file_extension": ".py",
   "mimetype": "text/x-python",
   "name": "python",
   "nbconvert_exporter": "python",
   "pygments_lexer": "ipython3",
   "version": "3.9.12"
  }
 },
 "nbformat": 4,
 "nbformat_minor": 5
}
