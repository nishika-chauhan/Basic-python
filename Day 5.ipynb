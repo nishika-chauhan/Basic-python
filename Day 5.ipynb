{
 "cells": [
  {
   "cell_type": "code",
   "execution_count": 1,
   "id": "0c6cca14",
   "metadata": {},
   "outputs": [
    {
     "name": "stdout",
     "output_type": "stream",
     "text": [
      "Hello\n",
      "Hello\n",
      "Hello\n",
      "Hello\n",
      "Hello\n",
      "Hello\n",
      "Hello\n",
      "Hello\n",
      "Hello\n",
      "Hello\n"
     ]
    }
   ],
   "source": [
    "#Print Hello 10 times\n",
    "\n",
    "i=0\n",
    "while(i<10):\n",
    "    print(\"Hello\")\n",
    "    i=i+1"
   ]
  },
  {
   "cell_type": "code",
   "execution_count": 3,
   "id": "5d6912e1",
   "metadata": {},
   "outputs": [
    {
     "name": "stdout",
     "output_type": "stream",
     "text": [
      "Enter a number: 10\n",
      "1\n",
      "2\n",
      "3\n",
      "4\n",
      "5\n",
      "6\n",
      "7\n",
      "8\n",
      "9\n",
      "10\n"
     ]
    }
   ],
   "source": [
    "#Print numbers 1 to n\n",
    "n = int(input(\"Enter a number: \"))\n",
    "i = 1 \n",
    "while(i<n+1):\n",
    "    print(i)\n",
    "    i+=1"
   ]
  },
  {
   "cell_type": "code",
   "execution_count": 5,
   "id": "0c583b56",
   "metadata": {},
   "outputs": [
    {
     "name": "stdout",
     "output_type": "stream",
     "text": [
      "Enter a number: 5\n",
      "5\n",
      "4\n",
      "3\n",
      "2\n",
      "1\n"
     ]
    }
   ],
   "source": [
    "#Print numbers n to 1\n",
    "n = int(input(\"Enter a number: \"))\n",
    "i = 1\n",
    "while(i<=n):\n",
    "    print(n)\n",
    "    n=n-1"
   ]
  },
  {
   "cell_type": "code",
   "execution_count": 8,
   "id": "946549e5",
   "metadata": {},
   "outputs": [
    {
     "name": "stdout",
     "output_type": "stream",
     "text": [
      "Enter a number: 7\n",
      "Sum: 28\n"
     ]
    }
   ],
   "source": [
    "#WAP to find sum of first n natural numbers\n",
    "n = int(input(\"Enter a number: \"))\n",
    "i = 1\n",
    "sum = 0\n",
    "while(i<=n):\n",
    "    sum = sum+i\n",
    "    i=i+1\n",
    "print(\"Sum:\",sum)"
   ]
  },
  {
   "cell_type": "code",
   "execution_count": 12,
   "id": "d0f88729",
   "metadata": {},
   "outputs": [
    {
     "name": "stdout",
     "output_type": "stream",
     "text": [
      "[2, 4, 6, 8, 10, 12, 14, 16, 18, 20]\n",
      "[1, 3, 5, 7, 9, 11, 13, 15, 17, 19]\n"
     ]
    }
   ],
   "source": [
    "#WAP to display all even and odd numbers b/w 1 to 20\n",
    "i = 1\n",
    "odd = []\n",
    "even=[]\n",
    "while (i<=20):\n",
    "    if(i%2==0):\n",
    "        even.append(i)\n",
    "    else:\n",
    "        odd.append(i)\n",
    "    i = i+1\n",
    "print(even)\n",
    "print(odd)"
   ]
  },
  {
   "cell_type": "code",
   "execution_count": 5,
   "id": "78fbcebd",
   "metadata": {},
   "outputs": [
    {
     "name": "stdout",
     "output_type": "stream",
     "text": [
      "Enter the number of elements you want to add: 5\n",
      "Enter the element: 9\n",
      "Enter the element: 8\n",
      "Enter the element: 7\n",
      "Enter the element: 6\n",
      "Enter the element: 5\n",
      "[9, 8, 7, 6, 5]\n",
      "Sum: 35\n"
     ]
    }
   ],
   "source": [
    "#WAP to find sum of n numbers and store in list\n",
    "l=[]\n",
    "n = int(input(\"Enter the number of elements you want to add: \"))\n",
    "sum = 0\n",
    "for i in range(0,n):\n",
    "    x = int(input(\"Enter the element: \"))\n",
    "    l.append(x)\n",
    "print(l)\n",
    "\n",
    "for i in l:\n",
    "    sum+=i\n",
    "print(\"Sum:\",sum)"
   ]
  },
  {
   "cell_type": "code",
   "execution_count": 6,
   "id": "1f670646",
   "metadata": {},
   "outputs": [
    {
     "name": "stdout",
     "output_type": "stream",
     "text": [
      "[7, 14, 21, 28, 35, 42, 49, 56, 63, 70, 77, 84, 91, 98]\n"
     ]
    }
   ],
   "source": [
    "#WAP to display all numbers divisible by 7 b/w 1 to 100\n",
    "l=[]\n",
    "for i in range(1,101):\n",
    "    if(i%7==0):\n",
    "        l.append(i)\n",
    "print(l)"
   ]
  },
  {
   "cell_type": "code",
   "execution_count": 7,
   "id": "a2ca81f8",
   "metadata": {},
   "outputs": [
    {
     "name": "stdout",
     "output_type": "stream",
     "text": [
      "2 x 1 = 2\n",
      "2 x 2 = 4\n",
      "2 x 3 = 6\n",
      "2 x 4 = 8\n",
      "2 x 5 = 10\n",
      "2 x 6 = 12\n",
      "2 x 7 = 14\n",
      "2 x 8 = 16\n",
      "2 x 9 = 18\n",
      "2 x 10 = 20\n"
     ]
    }
   ],
   "source": [
    "#Print the table of 2\n",
    "for i in range(1,11):\n",
    "    print(\"2 x\",i,\"=\",2*i)"
   ]
  },
  {
   "cell_type": "code",
   "execution_count": 8,
   "id": "91e7e2c3",
   "metadata": {
    "scrolled": true
   },
   "outputs": [
    {
     "name": "stdout",
     "output_type": "stream",
     "text": [
      "n: 6\n",
      "6 x 1 = 6\n",
      "6 x 2 = 12\n",
      "6 x 3 = 18\n",
      "6 x 4 = 24\n",
      "6 x 5 = 30\n",
      "6 x 6 = 36\n",
      "6 x 7 = 42\n",
      "6 x 8 = 48\n",
      "6 x 9 = 54\n",
      "6 x 10 = 60\n"
     ]
    }
   ],
   "source": [
    "#WAP to build table of any number\n",
    "n = int(input(\"n: \"))\n",
    "for i in range(1,11):\n",
    "    print(n,\"x\",i,\"=\",n*i)"
   ]
  },
  {
   "cell_type": "code",
   "execution_count": 10,
   "id": "11c4e33f",
   "metadata": {},
   "outputs": [
    {
     "name": "stdout",
     "output_type": "stream",
     "text": [
      "enter the number6\n",
      "factorial: 720\n",
      "Factorial: 720\n"
     ]
    }
   ],
   "source": [
    "#WAP to factorial of any number\n",
    "#using while loop\n",
    "n = int(input(\"enter the number\"))\n",
    "i=1\n",
    "fact = 1\n",
    "Fact=1\n",
    "while (i<=n):\n",
    "    fact = fact*i\n",
    "    i+=1\n",
    "print(\"factorial:\",fact)\n",
    "\n",
    "#using for loop\n",
    "for i in range(1,n+1):\n",
    "    Fact+=1\n",
    "print(\"Factorial:\",fact)"
   ]
  },
  {
   "cell_type": "code",
   "execution_count": 11,
   "id": "ccf1a4ee",
   "metadata": {},
   "outputs": [
    {
     "name": "stdout",
     "output_type": "stream",
     "text": [
      "0\n",
      "1\n",
      "2\n"
     ]
    }
   ],
   "source": [
    "for i in range(8):\n",
    "    if i==3:\n",
    "        break\n",
    "    print(i)"
   ]
  },
  {
   "cell_type": "code",
   "execution_count": 16,
   "id": "1ec04dfc",
   "metadata": {},
   "outputs": [
    {
     "name": "stdout",
     "output_type": "stream",
     "text": [
      "Enter a number: 56\n",
      "Sum: 11\n"
     ]
    }
   ],
   "source": [
    "#WAP to print sum of digits of a number\n",
    "n = input(\"Enter a number: \")\n",
    "sum=0\n",
    "for i in n:\n",
    "    sum=sum+int(i)\n",
    "print(\"Sum:\",sum)"
   ]
  },
  {
   "cell_type": "code",
   "execution_count": 18,
   "id": "d0673f7a",
   "metadata": {},
   "outputs": [
    {
     "name": "stdout",
     "output_type": "stream",
     "text": [
      "Enter a number: 67\n",
      "Sum: 13\n"
     ]
    }
   ],
   "source": [
    "#WAP to print sum of digits of a number\n",
    "n =int(input(\"Enter a number: \")) \n",
    "sum=0\n",
    "while(n>0):\n",
    "    d=n%10\n",
    "    sum+=d\n",
    "    n = n//10\n",
    "print(\"Sum:\",sum)\n",
    "    "
   ]
  },
  {
   "cell_type": "code",
   "execution_count": 25,
   "id": "80c55f1f",
   "metadata": {},
   "outputs": [
    {
     "name": "stdout",
     "output_type": "stream",
     "text": [
      "Enter a number: 45\n",
      "['5', '4']\n",
      "After reversing: 54\n"
     ]
    }
   ],
   "source": [
    "#WAP to reverse a digit\n",
    "n =int(input(\"Enter a number: \")) \n",
    "l=[]\n",
    "while(n>0):\n",
    "    d=n%10\n",
    "    x=str(d)\n",
    "    l.append(x)\n",
    "    n = n//10\n",
    "print(l)\n",
    "\n",
    "a=\"\".join(l)\n",
    "print(\"After reversing:\",a)\n",
    "    "
   ]
  },
  {
   "cell_type": "code",
   "execution_count": 1,
   "id": "890161f7",
   "metadata": {},
   "outputs": [
    {
     "name": "stdout",
     "output_type": "stream",
     "text": [
      "Enter a string: mfgrtm\n",
      "Not a palindrome\n",
      "Palindrome\n"
     ]
    }
   ],
   "source": [
    "#WAP to check for palindrome\n",
    "s = input(\"Enter a string: \")\n",
    "\n",
    "\n",
    "for i in range(0,len(s)):\n",
    "    if (s[i]==s[len(s)-i-1]):\n",
    "        continue\n",
    "        \n",
    "    else:\n",
    "        print(\"Not a palindrome\")\n",
    "        break\n",
    "    "
   ]
  },
  {
   "cell_type": "code",
   "execution_count": null,
   "id": "4da18b40",
   "metadata": {},
   "outputs": [],
   "source": []
  },
  {
   "cell_type": "code",
   "execution_count": null,
   "id": "d6dc3666",
   "metadata": {},
   "outputs": [],
   "source": []
  }
 ],
 "metadata": {
  "kernelspec": {
   "display_name": "Python 3 (ipykernel)",
   "language": "python",
   "name": "python3"
  },
  "language_info": {
   "codemirror_mode": {
    "name": "ipython",
    "version": 3
   },
   "file_extension": ".py",
   "mimetype": "text/x-python",
   "name": "python",
   "nbconvert_exporter": "python",
   "pygments_lexer": "ipython3",
   "version": "3.9.12"
  }
 },
 "nbformat": 4,
 "nbformat_minor": 5
}
