{
 "cells": [
  {
   "cell_type": "code",
   "execution_count": 1,
   "id": "a1bae61c",
   "metadata": {},
   "outputs": [
    {
     "name": "stdout",
     "output_type": "stream",
     "text": [
      "*\n",
      "**\n",
      "***\n",
      "****\n",
      "*****\n"
     ]
    }
   ],
   "source": [
    "#Print the following pattern\n",
    "\"\"\"\n",
    "*\n",
    "**\n",
    "***\n",
    "****\n",
    "*****\"\"\"\n",
    "\n",
    "for i in range(1,6):\n",
    "    print(\"*\"*i)"
   ]
  },
  {
   "cell_type": "code",
   "execution_count": 4,
   "id": "771ad771",
   "metadata": {},
   "outputs": [
    {
     "name": "stdout",
     "output_type": "stream",
     "text": [
      "*****\n",
      "****\n",
      "***\n",
      "**\n",
      "*\n"
     ]
    }
   ],
   "source": [
    "#Print the following pattern\n",
    "\"\"\"\n",
    "*****\n",
    "****\n",
    "***\n",
    "**\n",
    "*\"\"\"\n",
    "for i in range(5,0,-1):\n",
    "    print(\"*\"*i)"
   ]
  },
  {
   "cell_type": "code",
   "execution_count": 6,
   "id": "5fe776d1",
   "metadata": {},
   "outputs": [
    {
     "name": "stdout",
     "output_type": "stream",
     "text": [
      "Enter the number of tables you want to print: 5\n",
      "Enter the number: 2\n",
      "2 x 1 = 2\n",
      "2 x 2 = 4\n",
      "2 x 3 = 6\n",
      "2 x 4 = 8\n",
      "2 x 5 = 10\n",
      "2 x 6 = 12\n",
      "2 x 7 = 14\n",
      "2 x 8 = 16\n",
      "2 x 9 = 18\n",
      "2 x 10 = 20\n",
      "\n",
      "\n",
      "Enter the number: 3\n",
      "3 x 1 = 3\n",
      "3 x 2 = 6\n",
      "3 x 3 = 9\n",
      "3 x 4 = 12\n",
      "3 x 5 = 15\n",
      "3 x 6 = 18\n",
      "3 x 7 = 21\n",
      "3 x 8 = 24\n",
      "3 x 9 = 27\n",
      "3 x 10 = 30\n",
      "\n",
      "\n",
      "Enter the number: 4\n",
      "4 x 1 = 4\n",
      "4 x 2 = 8\n",
      "4 x 3 = 12\n",
      "4 x 4 = 16\n",
      "4 x 5 = 20\n",
      "4 x 6 = 24\n",
      "4 x 7 = 28\n",
      "4 x 8 = 32\n",
      "4 x 9 = 36\n",
      "4 x 10 = 40\n",
      "\n",
      "\n",
      "Enter the number: 5\n",
      "5 x 1 = 5\n",
      "5 x 2 = 10\n",
      "5 x 3 = 15\n",
      "5 x 4 = 20\n",
      "5 x 5 = 25\n",
      "5 x 6 = 30\n",
      "5 x 7 = 35\n",
      "5 x 8 = 40\n",
      "5 x 9 = 45\n",
      "5 x 10 = 50\n",
      "\n",
      "\n",
      "Enter the number: 6\n",
      "6 x 1 = 6\n",
      "6 x 2 = 12\n",
      "6 x 3 = 18\n",
      "6 x 4 = 24\n",
      "6 x 5 = 30\n",
      "6 x 6 = 36\n",
      "6 x 7 = 42\n",
      "6 x 8 = 48\n",
      "6 x 9 = 54\n",
      "6 x 10 = 60\n",
      "\n",
      "\n"
     ]
    }
   ],
   "source": [
    "# Print 2-6 tables\n",
    "n = int(input(\"Enter the number of tables you want to print: \"))\n",
    "for i in range(0,n):\n",
    "    a = int(input(\"Enter the number: \"))\n",
    "    for j in range(1,11):\n",
    "        print(a,\"x\",j,\"=\",a*j)\n",
    "    print()\n",
    "    print()"
   ]
  },
  {
   "cell_type": "code",
   "execution_count": 13,
   "id": "1194a4f1",
   "metadata": {},
   "outputs": [
    {
     "name": "stdout",
     "output_type": "stream",
     "text": [
      "1 \n",
      "1 2 \n",
      "1 2 3 \n",
      "1 2 3 4 \n",
      "1 2 3 4 5 \n"
     ]
    }
   ],
   "source": [
    "#Print the following pattern\n",
    "\"\"\"\n",
    "1\n",
    "1 2\n",
    "1 2 3\n",
    "1 2 3 4\n",
    "1 2 3 4 5\"\"\"\n",
    "\n",
    "for i in range(1,6):\n",
    "    for j in range(i):\n",
    "        print(j+1,end=\" \")\n",
    "    print()"
   ]
  },
  {
   "cell_type": "code",
   "execution_count": 14,
   "id": "f1449689",
   "metadata": {},
   "outputs": [
    {
     "name": "stdout",
     "output_type": "stream",
     "text": [
      "A \n",
      "B B \n",
      "C C C \n",
      "D D D D \n",
      "E E E E E \n"
     ]
    }
   ],
   "source": [
    "#Print the following pattern\n",
    "\"\"\"\n",
    "A\n",
    "B B\n",
    "C C C\n",
    "D D D D\n",
    "E E E E E\"\"\"\n",
    "for i in range(65,70):\n",
    "    for j in range(65,i+1):\n",
    "        print(chr(i),end=\" \")\n",
    "    print()"
   ]
  },
  {
   "cell_type": "code",
   "execution_count": 7,
   "id": "31e33c95",
   "metadata": {},
   "outputs": [
    {
     "name": "stdout",
     "output_type": "stream",
     "text": [
      "Enter a number989\n",
      "[9, 8, 9]\n"
     ]
    }
   ],
   "source": [
    "a = int(input(\"Enter a number\"))\n",
    "l=[]\n",
    "while (a>0):\n",
    "    d=a%10\n",
    "    l.append(d)\n",
    "    a//=10\n",
    "print(l)\n",
    "for i in range(0,len(l)):\n",
    "    if l[i]==l[len(l)-1-i]:\n",
    "        continue\n",
    "    else:\n",
    "        print(\"Not a palindrome\")\n",
    "        break\n",
    "    "
   ]
  },
  {
   "cell_type": "code",
   "execution_count": 3,
   "id": "051cc76b",
   "metadata": {},
   "outputs": [
    {
     "name": "stdout",
     "output_type": "stream",
     "text": [
      "Enter a string: madam\n"
     ]
    }
   ],
   "source": [
    "s = input(\"Enter a string: \")\n",
    "\n",
    "\n",
    "for i in range(0,len(s)):\n",
    "    if (s[i]==s[len(s)-i-1]):\n",
    "        continue\n",
    "        \n",
    "    else:\n",
    "        print(\"Not a palindrome\")\n",
    "        break"
   ]
  },
  {
   "cell_type": "code",
   "execution_count": 40,
   "id": "699f3140",
   "metadata": {
    "scrolled": true
   },
   "outputs": [
    {
     "name": "stdout",
     "output_type": "stream",
     "text": [
      "     *\n",
      "    **\n",
      "   ***\n",
      "  ****\n",
      " *****\n",
      "\n"
     ]
    }
   ],
   "source": [
    "\"\"\"\n",
    "    *\n",
    "   **\n",
    "  ***\n",
    " ****\n",
    "*****\n",
    "\"\"\"\n",
    "i=5\n",
    "for j in range(i):\n",
    "    print(\" \"*(i-(j+1)),\"*\"*(j+1))\n",
    "    \n",
    "print()"
   ]
  },
  {
   "cell_type": "code",
   "execution_count": 32,
   "id": "5d05e662",
   "metadata": {},
   "outputs": [
    {
     "name": "stdout",
     "output_type": "stream",
     "text": [
      "     *\n",
      "    ***\n",
      "   *****\n",
      "  *******\n",
      " *********\n",
      "\n"
     ]
    }
   ],
   "source": [
    "\"\"\"\n",
    "    *\n",
    "   ***\n",
    "  *****\n",
    " *******\n",
    "*********\n",
    "\"\"\"\n",
    "i=5\n",
    "for j in range(i):\n",
    "    print(\" \"*(i-(j+1)),\"*\"*(j+1),end=\"\")\n",
    "    print(\"*\"*j)\n",
    "        \n",
    "print()"
   ]
  },
  {
   "cell_type": "code",
   "execution_count": 11,
   "id": "d25d9b7d",
   "metadata": {},
   "outputs": [
    {
     "name": "stdout",
     "output_type": "stream",
     "text": [
      "13\n"
     ]
    }
   ],
   "source": [
    "def sum(a,b):\n",
    "    return a+b\n",
    "x=sum(6,7)\n",
    "print(x)"
   ]
  },
  {
   "cell_type": "code",
   "execution_count": 16,
   "id": "67baedd0",
   "metadata": {},
   "outputs": [
    {
     "name": "stdout",
     "output_type": "stream",
     "text": [
      "-1\n"
     ]
    }
   ],
   "source": [
    "def diff(a,b):\n",
    "    return a-b\n",
    "x=diff(6,7)\n",
    "print(x)"
   ]
  },
  {
   "cell_type": "code",
   "execution_count": 25,
   "id": "8f4f139a",
   "metadata": {},
   "outputs": [
    {
     "name": "stdout",
     "output_type": "stream",
     "text": [
      "Even\n"
     ]
    }
   ],
   "source": [
    "def oddeve(a):\n",
    "    if a%2==0:\n",
    "        return \"Even\"\n",
    "    else:\n",
    "        return \"Odd\"\n",
    "    \n",
    "print(oddeve(10))"
   ]
  },
  {
   "cell_type": "code",
   "execution_count": 30,
   "id": "ffbe36cc",
   "metadata": {},
   "outputs": [
    {
     "name": "stdout",
     "output_type": "stream",
     "text": [
      "Takes in a number n and returns its square\n"
     ]
    }
   ],
   "source": [
    "#Docstrings\n",
    "\n",
    "'''We can access docstrings in a function using the __doc__ attribute'''\n",
    "\n",
    "def square(n):\n",
    "    \"\"\"Takes in a number n and returns its square\"\"\"\n",
    "    return n**2\n",
    "print(square.__doc__)"
   ]
  },
  {
   "cell_type": "code",
   "execution_count": 69,
   "id": "458c5139",
   "metadata": {},
   "outputs": [
    {
     "name": "stdout",
     "output_type": "stream",
     "text": [
      "my name is Nishika\n",
      "I am 18 years old\n",
      "\n",
      "Nishika Chauhan\n",
      "Nishika Chauhan\n",
      "\n",
      "Student details: Nishika Chauhan 18 5 ABC school\n",
      "Student details: Nishika Chauhan 18 6 XYZ school\n",
      "\n",
      "Average: 46.0\n",
      "\n",
      "name:Alice\n",
      "age:25\n",
      "city:Noida\n",
      "name:Alice\n",
      "age:25\n",
      "city:Noida\n",
      "near:abc\n"
     ]
    }
   ],
   "source": [
    "#Positional arguments\n",
    "def intro(name,age):\n",
    "    print(\"my name is\",name)\n",
    "    print(\"I am\",age,\"years old\")\n",
    "intro(\"Nishika\",18)\n",
    "print()\n",
    "\n",
    "#Keyword arguments\n",
    "def student(first_name,last_name):\n",
    "    print(first_name,last_name)\n",
    "\n",
    "student(first_name=\"Nishika\",last_name=\"Chauhan\")\n",
    "student(last_name=\"Chauhan\",first_name=\"Nishika\")\n",
    "print()\n",
    "\n",
    "#Default arguments\n",
    "def student(first_name,last_name,age,grade=5,school=\"ABC school\"):\n",
    "    print(\"Student details:\",first_name,last_name,age,grade,school)\n",
    "\n",
    "student(\"Nishika\",\"Chauhan\",18)\n",
    "student(\"Nishika\",\"Chauhan\",18,6,\"XYZ school\")\n",
    "print()\n",
    "\n",
    "#Variable length argument\n",
    "def avr(*args):\n",
    "    sum=0\n",
    "    for i in args:\n",
    "        sum+=i\n",
    "    avg = sum/len(args)\n",
    "    print(\"Average:\",avg)\n",
    "\n",
    "avr(45,7,87,45)\n",
    "print()\n",
    "\n",
    "#Variable length keyword argument\n",
    "def great(**kwargs):\n",
    "    for key,value in kwargs.items():\n",
    "        print(f\"{key}:{value}\")\n",
    "\n",
    "        \n",
    "great(name=\"Alice\",age=25,city=\"Noida\")\n",
    "great(name=\"Alice\",age=25,city=\"Noida\",near=\"abc\")\n"
   ]
  },
  {
   "cell_type": "code",
   "execution_count": null,
   "id": "6fbb947d",
   "metadata": {},
   "outputs": [],
   "source": [
    "#max(),min(),Sum() in list\n"
   ]
  }
 ],
 "metadata": {
  "kernelspec": {
   "display_name": "Python 3 (ipykernel)",
   "language": "python",
   "name": "python3"
  },
  "language_info": {
   "codemirror_mode": {
    "name": "ipython",
    "version": 3
   },
   "file_extension": ".py",
   "mimetype": "text/x-python",
   "name": "python",
   "nbconvert_exporter": "python",
   "pygments_lexer": "ipython3",
   "version": "3.9.12"
  }
 },
 "nbformat": 4,
 "nbformat_minor": 5
}
